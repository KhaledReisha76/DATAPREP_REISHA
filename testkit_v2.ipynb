{
 "cells": [
  {
   "cell_type": "code",
   "execution_count": null,
   "id": "a30451fe",
   "metadata": {
    "ExecuteTime": {
     "end_time": "2024-03-25T12:04:45.733241Z",
     "start_time": "2024-03-25T12:04:45.205260Z"
    }
   },
   "outputs": [],
   "source": [
    "import pandas as pd\n",
    "import numpy as np\n",
    "import os"
   ]
  },
  {
   "cell_type": "code",
   "execution_count": null,
   "id": "2cbfa31b",
   "metadata": {
    "ExecuteTime": {
     "end_time": "2024-03-25T12:05:28.462717Z",
     "start_time": "2024-03-25T12:04:45.734241Z"
    }
   },
   "outputs": [],
   "source": [
    "#Function to read files specified by user, with different file extensions supported\n",
    "\n",
    "def read_file():\n",
    "    file=input(\"Enter directory of file to be imported:\\n\")\n",
    "    \n",
    "    if file.endswith('.csv') or file.endswith('.CSV'):\n",
    "        df=pd.read_csv(file)\n",
    "        \n",
    "    elif file.endswith('.xlsx') or file.endswith('.XLSX'):\n",
    "        df=pd.read_excel(file)\n",
    "        \n",
    "    elif file.endswith('.json') or file.endswith('.JSON'):\n",
    "        df=pd.read_json(file)\n",
    "        \n",
    "    return df\n",
    "    \n",
    "table=read_file()\n",
    "table"
   ]
  },
  {
   "cell_type": "code",
   "execution_count": null,
   "id": "ad38fb6d",
   "metadata": {
    "ExecuteTime": {
     "end_time": "2024-03-25T12:05:34.967716Z",
     "start_time": "2024-03-25T12:05:34.959965Z"
    }
   },
   "outputs": [],
   "source": [
    "#Find most frequent value in a specific column\n",
    "# .iloc[:,\"index of column\"] \n",
    "def find_most_freq():\n",
    "    ans=table.iloc[:,1].value_counts()\n",
    "    return ans\n",
    "find_most_freq()\n",
    "    \n",
    "        "
   ]
  },
  {
   "cell_type": "code",
   "execution_count": null,
   "id": "09a82c9a",
   "metadata": {
    "ExecuteTime": {
     "end_time": "2024-03-25T12:05:36.726588Z",
     "start_time": "2024-03-25T12:05:36.720156Z"
    }
   },
   "outputs": [],
   "source": [
    "#Find average of a specific NUMERICAL ONLY column\n",
    "#replace in \"ans=table['ENTER COLUMN NAME HERE'].mean()\" to find average\n",
    "\n",
    "def find_avg():\n",
    "    try:\n",
    "        ans=table.iloc[:,4].mean()\n",
    "        return ans\n",
    "    except:\n",
    "        print(\"Column is not numerical, cannot find average\")\n",
    "find_avg()\n",
    "    "
   ]
  },
  {
   "cell_type": "code",
   "execution_count": null,
   "id": "4937236c",
   "metadata": {
    "ExecuteTime": {
     "end_time": "2024-03-25T12:05:38.461230Z",
     "start_time": "2024-03-25T12:05:38.428890Z"
    }
   },
   "outputs": [],
   "source": [
    "#key summary statistics\n",
    "def summary_statistics():\n",
    "    ans=table.describe()\n",
    "    return ans\n",
    "summary_statistics()\n"
   ]
  },
  {
   "cell_type": "code",
   "execution_count": null,
   "id": "ca44303b",
   "metadata": {
    "ExecuteTime": {
     "end_time": "2024-03-25T12:05:40.634436Z",
     "start_time": "2024-03-25T12:05:40.628105Z"
    }
   },
   "outputs": [],
   "source": [
    "#check for number of null values in each column:\n",
    "table.isnull().sum()"
   ]
  },
  {
   "cell_type": "code",
   "execution_count": null,
   "id": "f30d327d",
   "metadata": {
    "ExecuteTime": {
     "end_time": "2024-03-25T12:05:43.533540Z",
     "start_time": "2024-03-25T12:05:43.527815Z"
    }
   },
   "outputs": [],
   "source": [
    "#check for total number of null values in entire dataframe\n",
    "table.isnull().sum().sum()"
   ]
  },
  {
   "cell_type": "code",
   "execution_count": null,
   "id": "2bd74b6c",
   "metadata": {
    "ExecuteTime": {
     "end_time": "2024-03-25T12:05:44.190344Z",
     "start_time": "2024-03-25T12:05:44.171803Z"
    }
   },
   "outputs": [],
   "source": [
    "#fill null values with ZERO\n",
    "table1=table.fillna(value=0)\n",
    "table1"
   ]
  },
  {
   "cell_type": "code",
   "execution_count": null,
   "id": "b44e3245",
   "metadata": {
    "ExecuteTime": {
     "end_time": "2024-03-25T12:05:46.146958Z",
     "start_time": "2024-03-25T12:05:46.128788Z"
    }
   },
   "outputs": [],
   "source": [
    "#fill null value with previous value\n",
    "table1=table.fillna(method='pad')\n",
    "table1\n"
   ]
  },
  {
   "cell_type": "code",
   "execution_count": null,
   "id": "82189a9d",
   "metadata": {
    "ExecuteTime": {
     "end_time": "2024-03-25T12:05:50.958287Z",
     "start_time": "2024-03-25T12:05:50.940095Z"
    },
    "scrolled": false
   },
   "outputs": [],
   "source": [
    "#fill null value with next value\n",
    "table1=table.fillna(method='bfill')\n",
    "table1\n"
   ]
  },
  {
   "cell_type": "code",
   "execution_count": null,
   "id": "29c8d0c7",
   "metadata": {
    "ExecuteTime": {
     "end_time": "2024-03-25T12:05:53.878962Z",
     "start_time": "2024-03-25T12:05:53.860359Z"
    },
    "scrolled": false
   },
   "outputs": [],
   "source": [
    "#drop rows which contains EVEN ONE null value\n",
    "table1=table.dropna()\n",
    "table1"
   ]
  },
  {
   "cell_type": "code",
   "execution_count": null,
   "id": "42c2c274",
   "metadata": {
    "ExecuteTime": {
     "end_time": "2024-03-25T12:05:56.096607Z",
     "start_time": "2024-03-25T12:05:56.077021Z"
    }
   },
   "outputs": [],
   "source": [
    "#deletes entire row IF ANY OF ITS ELEMENTS=null.\n",
    "table1=table.dropna(how='any')\n",
    "table1"
   ]
  },
  {
   "cell_type": "code",
   "execution_count": null,
   "id": "01146ba0",
   "metadata": {
    "ExecuteTime": {
     "end_time": "2024-03-25T12:05:57.781286Z",
     "start_time": "2024-03-25T12:05:57.760651Z"
    }
   },
   "outputs": [],
   "source": [
    "#deletes entire row IF ALL OF ITS ELEMENTS=null.\n",
    "table1=table.dropna(how='all')\n",
    "table1"
   ]
  },
  {
   "cell_type": "code",
   "execution_count": null,
   "id": "f953d5f5",
   "metadata": {
    "ExecuteTime": {
     "end_time": "2024-03-25T12:10:30.305709Z",
     "start_time": "2024-03-25T12:10:30.301412Z"
    }
   },
   "outputs": [],
   "source": [
    "#encoding categorical data\n",
    "\n",
    "from sklearn.compose import ColumnTransformer\n",
    "from sklearn.preprocessing import OneHotEncoder\n",
    "ohe=OneHotEncoder()"
   ]
  },
  {
   "cell_type": "code",
   "execution_count": null,
   "id": "cba796b8",
   "metadata": {
    "ExecuteTime": {
     "end_time": "2024-03-25T12:08:41.543536Z",
     "start_time": "2024-03-25T12:08:41.532700Z"
    }
   },
   "outputs": [],
   "source": [
    "#encoding categorical data\n",
    "ohe.fit_transform(table1[['mfr']])"
   ]
  },
  {
   "cell_type": "code",
   "execution_count": null,
   "id": "2e840118",
   "metadata": {
    "ExecuteTime": {
     "end_time": "2024-03-25T12:08:44.429326Z",
     "start_time": "2024-03-25T12:08:44.424401Z"
    }
   },
   "outputs": [],
   "source": [
    "ohe.categories_"
   ]
  }
 ],
 "metadata": {
  "kernelspec": {
   "display_name": "Python 3 (ipykernel)",
   "language": "python",
   "name": "python3"
  },
  "language_info": {
   "codemirror_mode": {
    "name": "ipython",
    "version": 3
   },
   "file_extension": ".py",
   "mimetype": "text/x-python",
   "name": "python",
   "nbconvert_exporter": "python",
   "pygments_lexer": "ipython3",
   "version": "3.11.5"
  }
 },
 "nbformat": 4,
 "nbformat_minor": 5
}
